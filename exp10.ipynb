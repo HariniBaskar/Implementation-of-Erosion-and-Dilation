{
 "cells": [
  {
   "cell_type": "code",
   "execution_count": 1,
   "id": "e768e048",
   "metadata": {},
   "outputs": [],
   "source": [
    "import cv2\n",
    "import numpy as np\n",
    "import matplotlib.pyplot as plt"
   ]
  },
  {
   "cell_type": "code",
   "execution_count": 2,
   "id": "63f07165",
   "metadata": {},
   "outputs": [],
   "source": [
    "text_image = np.zeros((100,440),dtype = 'uint8')\n",
    "img=cv2.cvtColor(text_image,cv2.COLOR_BGR2RGB)\n",
    "font = cv2.FONT_HERSHEY_SIMPLEX = 3\n",
    "cv2.putText(img,\"Harini.B\",(5,70),font,2,(0,0,255),5,cv2.LINE_AA)\n",
    "cv2.imshow(\"Original Image\",img)\n",
    "cv2.waitKey(0)\n",
    "cv2.destroyAllWindows()"
   ]
  },
  {
   "cell_type": "code",
   "execution_count": 3,
   "id": "7814b3b8",
   "metadata": {},
   "outputs": [],
   "source": [
    "kernel = cv2.getStructuringElement(cv2.MORPH_CROSS,(7,7))"
   ]
  },
  {
   "cell_type": "code",
   "execution_count": 4,
   "id": "eba84592",
   "metadata": {},
   "outputs": [],
   "source": [
    "image_erode = cv2.erode(img,kernel)\n",
    "cv2.imshow(\"Eroded Image\",image_erode)\n",
    "cv2.waitKey(0)\n",
    "cv2.destroyAllWindows()"
   ]
  },
  {
   "cell_type": "code",
   "execution_count": null,
   "id": "0c81a371",
   "metadata": {},
   "outputs": [],
   "source": [
    "image_dilate = cv2.dilate(img,kernel)\n",
    "cv2.imshow(\"Dilated Image\",image_dilate)\n",
    "cv2.waitKey(0)\n",
    "cv2.destroyAllWindows()"
   ]
  },
  {
   "cell_type": "code",
   "execution_count": null,
   "id": "6ffc7eb8",
   "metadata": {},
   "outputs": [],
   "source": []
  }
 ],
 "metadata": {
  "kernelspec": {
   "display_name": "Python 3",
   "language": "python",
   "name": "python3"
  },
  "language_info": {
   "codemirror_mode": {
    "name": "ipython",
    "version": 3
   },
   "file_extension": ".py",
   "mimetype": "text/x-python",
   "name": "python",
   "nbconvert_exporter": "python",
   "pygments_lexer": "ipython3",
   "version": "3.8.8"
  }
 },
 "nbformat": 4,
 "nbformat_minor": 5
}
